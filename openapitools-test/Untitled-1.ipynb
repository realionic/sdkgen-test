{
 "cells": [
  {
   "cell_type": "code",
   "execution_count": 2,
   "metadata": {},
   "outputs": [
    {
     "ename": "ImportError",
     "evalue": "attempted relative import with no known parent package",
     "output_type": "error",
     "traceback": [
      "\u001b[0;31m---------------------------------------------------------------------------\u001b[0m",
      "\u001b[0;31mImportError\u001b[0m                               Traceback (most recent call last)",
      "\u001b[1;32m/Users/kyoungwoolee/Documents/sdk-gen/openapitools-test/Untitled-1.ipynb Cell 1\u001b[0m in \u001b[0;36m1\n\u001b[0;32m----> <a href='vscode-notebook-cell:/Users/kyoungwoolee/Documents/sdk-gen/openapitools-test/Untitled-1.ipynb#W1sZmlsZQ%3D%3D?line=0'>1</a>\u001b[0m \u001b[39mfrom\u001b[39;00m \u001b[39m.\u001b[39;00m\u001b[39mopenapi_client\u001b[39;00m\u001b[39m.\u001b[39;00m\u001b[39mapi\u001b[39;00m \u001b[39mimport\u001b[39;00m (\n\u001b[1;32m      <a href='vscode-notebook-cell:/Users/kyoungwoolee/Documents/sdk-gen/openapitools-test/Untitled-1.ipynb#W1sZmlsZQ%3D%3D?line=1'>2</a>\u001b[0m     PetApi\n\u001b[1;32m      <a href='vscode-notebook-cell:/Users/kyoungwoolee/Documents/sdk-gen/openapitools-test/Untitled-1.ipynb#W1sZmlsZQ%3D%3D?line=2'>3</a>\u001b[0m     \n\u001b[1;32m      <a href='vscode-notebook-cell:/Users/kyoungwoolee/Documents/sdk-gen/openapitools-test/Untitled-1.ipynb#W1sZmlsZQ%3D%3D?line=3'>4</a>\u001b[0m )\n",
      "\u001b[0;31mImportError\u001b[0m: attempted relative import with no known parent package"
     ]
    }
   ],
   "source": [
    "from .openapi_client.api import (\n",
    "    PetApi\n",
    ")"
   ]
  }
 ],
 "metadata": {
  "kernelspec": {
   "display_name": "Python 3",
   "language": "python",
   "name": "python3"
  },
  "language_info": {
   "codemirror_mode": {
    "name": "ipython",
    "version": 3
   },
   "file_extension": ".py",
   "mimetype": "text/x-python",
   "name": "python",
   "nbconvert_exporter": "python",
   "pygments_lexer": "ipython3",
   "version": "3.11.1"
  }
 },
 "nbformat": 4,
 "nbformat_minor": 2
}
